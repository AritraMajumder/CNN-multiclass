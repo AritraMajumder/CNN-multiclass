{
 "cells": [
  {
   "cell_type": "code",
   "execution_count": 1,
   "metadata": {},
   "outputs": [],
   "source": [
    "import tensorflow as tf\n",
    "from keras.preprocessing.image import ImageDataGenerator"
   ]
  },
  {
   "cell_type": "markdown",
   "metadata": {},
   "source": [
    "## Training data preprocessing"
   ]
  },
  {
   "cell_type": "markdown",
   "metadata": {},
   "source": [
    "from keras/tf docs"
   ]
  },
  {
   "cell_type": "code",
   "execution_count": 2,
   "metadata": {},
   "outputs": [
    {
     "name": "stdout",
     "output_type": "stream",
     "text": [
      "Found 622 images belonging to 6 classes.\n"
     ]
    }
   ],
   "source": [
    "train_datagen = ImageDataGenerator(\n",
    "        rescale=1./255,\n",
    "        shear_range=0.2,\n",
    "        zoom_range=0.2,\n",
    "        horizontal_flip=True)\n",
    "\n",
    "trainset = train_datagen.flow_from_directory(\n",
    "        'dataset/training_set',\n",
    "        target_size=(64, 64), #resize image to make computation faster\n",
    "        batch_size=32,        #images in each batch\n",
    "        class_mode='categorical')  #binary or categorical"
   ]
  },
  {
   "cell_type": "markdown",
   "metadata": {},
   "source": [
    "## Test data preprocessing"
   ]
  },
  {
   "cell_type": "code",
   "execution_count": 3,
   "metadata": {},
   "outputs": [
    {
     "name": "stdout",
     "output_type": "stream",
     "text": [
      "Found 140 images belonging to 6 classes.\n"
     ]
    }
   ],
   "source": [
    "test_datagen = ImageDataGenerator(rescale=1./255)\n",
    "testset = test_datagen.flow_from_directory(\n",
    "        'dataset/test_set',\n",
    "        target_size=(64, 64),\n",
    "        batch_size=32,\n",
    "        class_mode='categorical')"
   ]
  },
  {
   "cell_type": "markdown",
   "metadata": {},
   "source": [
    "## INIT"
   ]
  },
  {
   "cell_type": "code",
   "execution_count": 4,
   "metadata": {},
   "outputs": [],
   "source": [
    "cnn = tf.keras.models.Sequential()"
   ]
  },
  {
   "cell_type": "markdown",
   "metadata": {},
   "source": [
    "## Convolution Processes"
   ]
  },
  {
   "cell_type": "code",
   "execution_count": 5,
   "metadata": {},
   "outputs": [],
   "source": [
    "#convolution 1\n",
    "cnn.add(tf.keras.layers.Conv2D(filters=32,kernel_size=3,activation='relu',input_shape=[64,64,3])) #ip shape depends on resized img\n",
    "#pooling 1\n",
    "cnn.add(tf.keras.layers.MaxPool2D(pool_size=2, strides=2))\n",
    "#convolution 2\n",
    "cnn.add(tf.keras.layers.Conv2D(filters=32, kernel_size=3, activation='relu'))\n",
    "#pooling 2\n",
    "cnn.add(tf.keras.layers.MaxPool2D(pool_size=2, strides=2))\n",
    "\n",
    "#flattening\n",
    "cnn.add(tf.keras.layers.Flatten())\n",
    "#full connection\n",
    "cnn.add(tf.keras.layers.Dense(units=128, activation='relu'))\n",
    "\n",
    "#output layer\n",
    "cnn.add(tf.keras.layers.Dense(units=6,activation='softmax')) #units = no of classes"
   ]
  },
  {
   "cell_type": "markdown",
   "metadata": {},
   "source": [
    "## Train"
   ]
  },
  {
   "cell_type": "code",
   "execution_count": 6,
   "metadata": {},
   "outputs": [],
   "source": [
    "cnn.compile(optimizer='adam',loss = 'binary_crossentropy',metrics=['accuracy'])"
   ]
  },
  {
   "cell_type": "code",
   "execution_count": 7,
   "metadata": {},
   "outputs": [
    {
     "name": "stdout",
     "output_type": "stream",
     "text": [
      "Epoch 1/15\n",
      "20/20 [==============================] - 4s 159ms/step - loss: 0.4742 - accuracy: 0.1688 - val_loss: 0.4444 - val_accuracy: 0.2214\n",
      "Epoch 2/15\n",
      "20/20 [==============================] - 3s 149ms/step - loss: 0.4364 - accuracy: 0.2749 - val_loss: 0.4079 - val_accuracy: 0.3643\n",
      "Epoch 3/15\n",
      "20/20 [==============================] - 3s 152ms/step - loss: 0.4094 - accuracy: 0.3408 - val_loss: 0.3815 - val_accuracy: 0.4714\n",
      "Epoch 4/15\n",
      "20/20 [==============================] - 3s 150ms/step - loss: 0.3762 - accuracy: 0.4566 - val_loss: 0.3576 - val_accuracy: 0.5214\n",
      "Epoch 5/15\n",
      "20/20 [==============================] - 3s 149ms/step - loss: 0.3370 - accuracy: 0.5482 - val_loss: 0.3262 - val_accuracy: 0.5286\n",
      "Epoch 6/15\n",
      "20/20 [==============================] - 3s 150ms/step - loss: 0.2969 - accuracy: 0.6254 - val_loss: 0.3199 - val_accuracy: 0.5500\n",
      "Epoch 7/15\n",
      "20/20 [==============================] - 3s 151ms/step - loss: 0.2708 - accuracy: 0.6334 - val_loss: 0.2682 - val_accuracy: 0.6500\n",
      "Epoch 8/15\n",
      "20/20 [==============================] - 3s 155ms/step - loss: 0.2479 - accuracy: 0.7010 - val_loss: 0.2506 - val_accuracy: 0.6500\n",
      "Epoch 9/15\n",
      "20/20 [==============================] - 3s 152ms/step - loss: 0.2149 - accuracy: 0.7315 - val_loss: 0.2113 - val_accuracy: 0.7357\n",
      "Epoch 10/15\n",
      "20/20 [==============================] - 3s 148ms/step - loss: 0.2184 - accuracy: 0.7315 - val_loss: 0.2049 - val_accuracy: 0.7714\n",
      "Epoch 11/15\n",
      "20/20 [==============================] - 3s 148ms/step - loss: 0.1928 - accuracy: 0.7797 - val_loss: 0.2113 - val_accuracy: 0.7214\n",
      "Epoch 12/15\n",
      "20/20 [==============================] - 3s 153ms/step - loss: 0.1714 - accuracy: 0.8071 - val_loss: 0.2306 - val_accuracy: 0.6786\n",
      "Epoch 13/15\n",
      "20/20 [==============================] - 3s 144ms/step - loss: 0.1567 - accuracy: 0.8392 - val_loss: 0.2114 - val_accuracy: 0.7071\n",
      "Epoch 14/15\n",
      "20/20 [==============================] - 3s 146ms/step - loss: 0.1395 - accuracy: 0.8537 - val_loss: 0.1898 - val_accuracy: 0.7429\n",
      "Epoch 15/15\n",
      "20/20 [==============================] - 3s 151ms/step - loss: 0.1230 - accuracy: 0.8810 - val_loss: 0.1855 - val_accuracy: 0.8000\n"
     ]
    },
    {
     "data": {
      "text/plain": [
       "<keras.callbacks.History at 0x2a88910d5a0>"
      ]
     },
     "execution_count": 7,
     "metadata": {},
     "output_type": "execute_result"
    }
   ],
   "source": [
    "cnn.fit(x = trainset,validation_data= testset, epochs = 15)"
   ]
  },
  {
   "cell_type": "markdown",
   "metadata": {},
   "source": [
    "## Prediction"
   ]
  },
  {
   "cell_type": "code",
   "execution_count": 8,
   "metadata": {},
   "outputs": [
    {
     "name": "stdout",
     "output_type": "stream",
     "text": [
      "1/1 [==============================] - 0s 117ms/step\n",
      "lemon\n"
     ]
    }
   ],
   "source": [
    "import numpy as np\n",
    "from keras.utils import load_img,img_to_array\n",
    "\n",
    "img = load_img('dataset/single_prediction/.jpg',target_size=(64,64))\n",
    "img = img_to_array(img)\n",
    "img = np.expand_dims(img,axis=0)\n",
    "\n",
    "res = cnn.predict(img/255.0)\n",
    "ind = np.argmax(res[0])\n",
    "\n",
    "classes = ['amla','avocado','jasmine','lemon','neem','tulsi']\n",
    "print(classes[ind])"
   ]
  },
  {
   "cell_type": "markdown",
   "metadata": {},
   "source": [
    "Evaluate"
   ]
  },
  {
   "cell_type": "code",
   "execution_count": 9,
   "metadata": {},
   "outputs": [
    {
     "name": "stdout",
     "output_type": "stream",
     "text": [
      "3/3 [==============================] - 0s 48ms/step - loss: 0.2135 - accuracy: 0.8551\n",
      "Test Loss: 0.21348212659358978\n",
      "Test Accuracy: 0.8550724387168884\n"
     ]
    }
   ],
   "source": [
    "# Evaluate the model on the test set\n",
    "evaluation = cnn.evaluate(testset)\n",
    "\n",
    "# The `evaluate` method returns a list containing the loss and accuracy\n",
    "loss = evaluation[0]\n",
    "accuracy = evaluation[1]\n",
    "\n",
    "# Print the evaluation results\n",
    "print(f'Test Loss: {loss}')\n",
    "print(f'Test Accuracy: {accuracy}')\n"
   ]
  },
  {
   "cell_type": "code",
   "execution_count": null,
   "metadata": {},
   "outputs": [],
   "source": []
  }
 ],
 "metadata": {
  "kernelspec": {
   "display_name": "Python 3",
   "language": "python",
   "name": "python3"
  },
  "language_info": {
   "codemirror_mode": {
    "name": "ipython",
    "version": 3
   },
   "file_extension": ".py",
   "mimetype": "text/x-python",
   "name": "python",
   "nbconvert_exporter": "python",
   "pygments_lexer": "ipython3",
   "version": "3.10.6"
  }
 },
 "nbformat": 4,
 "nbformat_minor": 2
}
