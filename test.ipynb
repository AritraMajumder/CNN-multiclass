{
 "cells": [
  {
   "cell_type": "code",
   "execution_count": 1,
   "metadata": {},
   "outputs": [],
   "source": [
    "import tensorflow as tf\n",
    "from keras.preprocessing.image import ImageDataGenerator"
   ]
  },
  {
   "cell_type": "markdown",
   "metadata": {},
   "source": [
    "## Training data preprocessing"
   ]
  },
  {
   "cell_type": "markdown",
   "metadata": {},
   "source": [
    "from keras/tf docs"
   ]
  },
  {
   "cell_type": "code",
   "execution_count": 2,
   "metadata": {},
   "outputs": [
    {
     "name": "stdout",
     "output_type": "stream",
     "text": [
      "Found 303 images belonging to 3 classes.\n"
     ]
    }
   ],
   "source": [
    "train_datagen = ImageDataGenerator(\n",
    "        rescale=1./255,\n",
    "        shear_range=0.2,\n",
    "        zoom_range=0.2,\n",
    "        horizontal_flip=True)\n",
    "\n",
    "trainset = train_datagen.flow_from_directory(\n",
    "        'dataset/training_set',\n",
    "        target_size=(64, 64), #resize image to make computation faster\n",
    "        batch_size=32,        #images in each batch\n",
    "        class_mode='categorical')  #binary or categorical"
   ]
  },
  {
   "cell_type": "markdown",
   "metadata": {},
   "source": [
    "## Test data preprocessing"
   ]
  },
  {
   "cell_type": "code",
   "execution_count": 3,
   "metadata": {},
   "outputs": [
    {
     "name": "stdout",
     "output_type": "stream",
     "text": [
      "Found 69 images belonging to 3 classes.\n"
     ]
    }
   ],
   "source": [
    "test_datagen = ImageDataGenerator(rescale=1./255)\n",
    "testset = test_datagen.flow_from_directory(\n",
    "        'dataset/test_set',\n",
    "        target_size=(64, 64),\n",
    "        batch_size=32,\n",
    "        class_mode='categorical')"
   ]
  },
  {
   "cell_type": "markdown",
   "metadata": {},
   "source": [
    "## INIT"
   ]
  },
  {
   "cell_type": "code",
   "execution_count": 4,
   "metadata": {},
   "outputs": [],
   "source": [
    "cnn = tf.keras.models.Sequential()"
   ]
  },
  {
   "cell_type": "markdown",
   "metadata": {},
   "source": [
    "## Convolution Processes"
   ]
  },
  {
   "cell_type": "code",
   "execution_count": 5,
   "metadata": {},
   "outputs": [],
   "source": [
    "#convolution 1\n",
    "cnn.add(tf.keras.layers.Conv2D(filters=32,kernel_size=3,activation='relu',input_shape=[64,64,3])) #ip shape depends on resized img\n",
    "#pooling 1\n",
    "cnn.add(tf.keras.layers.MaxPool2D(pool_size=2, strides=2))\n",
    "#convolution 2\n",
    "cnn.add(tf.keras.layers.Conv2D(filters=32, kernel_size=3, activation='relu'))\n",
    "#pooling 2\n",
    "cnn.add(tf.keras.layers.MaxPool2D(pool_size=2, strides=2))\n",
    "\n",
    "#flattening\n",
    "cnn.add(tf.keras.layers.Flatten())\n",
    "#full connection\n",
    "cnn.add(tf.keras.layers.Dense(units=128, activation='relu'))\n",
    "\n",
    "#output layer\n",
    "cnn.add(tf.keras.layers.Dense(units=3,activation='softmax'))"
   ]
  },
  {
   "cell_type": "markdown",
   "metadata": {},
   "source": [
    "## Train"
   ]
  },
  {
   "cell_type": "code",
   "execution_count": 6,
   "metadata": {},
   "outputs": [],
   "source": [
    "cnn.compile(optimizer='adam',loss = 'binary_crossentropy',metrics=['accuracy'])"
   ]
  },
  {
   "cell_type": "code",
   "execution_count": 7,
   "metadata": {},
   "outputs": [
    {
     "name": "stdout",
     "output_type": "stream",
     "text": [
      "Epoch 1/15\n",
      "10/10 [==============================] - 3s 178ms/step - loss: 0.6524 - accuracy: 0.3993 - val_loss: 0.5870 - val_accuracy: 0.6087\n",
      "Epoch 2/15\n",
      "10/10 [==============================] - 2s 151ms/step - loss: 0.5755 - accuracy: 0.4620 - val_loss: 0.5158 - val_accuracy: 0.7246\n",
      "Epoch 3/15\n",
      "10/10 [==============================] - 2s 168ms/step - loss: 0.5383 - accuracy: 0.5809 - val_loss: 0.4538 - val_accuracy: 0.7681\n",
      "Epoch 4/15\n",
      "10/10 [==============================] - 2s 158ms/step - loss: 0.4873 - accuracy: 0.6271 - val_loss: 0.4164 - val_accuracy: 0.7391\n",
      "Epoch 5/15\n",
      "10/10 [==============================] - 2s 168ms/step - loss: 0.4331 - accuracy: 0.7261 - val_loss: 0.3600 - val_accuracy: 0.7971\n",
      "Epoch 6/15\n",
      "10/10 [==============================] - 2s 165ms/step - loss: 0.3908 - accuracy: 0.7426 - val_loss: 0.3347 - val_accuracy: 0.7826\n",
      "Epoch 7/15\n",
      "10/10 [==============================] - 2s 154ms/step - loss: 0.3474 - accuracy: 0.7987 - val_loss: 0.2820 - val_accuracy: 0.8261\n",
      "Epoch 8/15\n",
      "10/10 [==============================] - 2s 149ms/step - loss: 0.3013 - accuracy: 0.8152 - val_loss: 0.3098 - val_accuracy: 0.7391\n",
      "Epoch 9/15\n",
      "10/10 [==============================] - 2s 152ms/step - loss: 0.2992 - accuracy: 0.8053 - val_loss: 0.2598 - val_accuracy: 0.8841\n",
      "Epoch 10/15\n",
      "10/10 [==============================] - 2s 149ms/step - loss: 0.2877 - accuracy: 0.8119 - val_loss: 0.2566 - val_accuracy: 0.8841\n",
      "Epoch 11/15\n",
      "10/10 [==============================] - 2s 157ms/step - loss: 0.2532 - accuracy: 0.8515 - val_loss: 0.2792 - val_accuracy: 0.8406\n",
      "Epoch 12/15\n",
      "10/10 [==============================] - 2s 181ms/step - loss: 0.2310 - accuracy: 0.8581 - val_loss: 0.2366 - val_accuracy: 0.8551\n",
      "Epoch 13/15\n",
      "10/10 [==============================] - 2s 170ms/step - loss: 0.1963 - accuracy: 0.9142 - val_loss: 0.2397 - val_accuracy: 0.8406\n",
      "Epoch 14/15\n",
      "10/10 [==============================] - 2s 190ms/step - loss: 0.1880 - accuracy: 0.8878 - val_loss: 0.2542 - val_accuracy: 0.8406\n",
      "Epoch 15/15\n",
      "10/10 [==============================] - 2s 197ms/step - loss: 0.1713 - accuracy: 0.9208 - val_loss: 0.2135 - val_accuracy: 0.8551\n"
     ]
    },
    {
     "data": {
      "text/plain": [
       "<keras.callbacks.History at 0x223bb931510>"
      ]
     },
     "execution_count": 7,
     "metadata": {},
     "output_type": "execute_result"
    }
   ],
   "source": [
    "cnn.fit(x = trainset,validation_data= testset, epochs = 15)"
   ]
  },
  {
   "cell_type": "markdown",
   "metadata": {},
   "source": [
    "## Prediction"
   ]
  },
  {
   "cell_type": "code",
   "execution_count": 22,
   "metadata": {},
   "outputs": [
    {
     "name": "stdout",
     "output_type": "stream",
     "text": [
      "1/1 [==============================] - 0s 25ms/step\n",
      "lemon\n"
     ]
    }
   ],
   "source": [
    "import numpy as np\n",
    "from keras.utils import load_img,img_to_array\n",
    "\n",
    "img = load_img('dataset/single_prediction/lemon1.jpg',target_size=(64,64))\n",
    "img = img_to_array(img)\n",
    "img = np.expand_dims(img,axis=0)\n",
    "\n",
    "res = cnn.predict(img/255.0)\n",
    "ind = np.argmax(res[0])\n",
    "\n",
    "classes = ['amla','jasmine','lemon']\n",
    "print(classes[ind])"
   ]
  },
  {
   "cell_type": "markdown",
   "metadata": {},
   "source": [
    "Evaluate"
   ]
  },
  {
   "cell_type": "code",
   "execution_count": 9,
   "metadata": {},
   "outputs": [
    {
     "name": "stdout",
     "output_type": "stream",
     "text": [
      "3/3 [==============================] - 0s 48ms/step - loss: 0.2135 - accuracy: 0.8551\n",
      "Test Loss: 0.21348212659358978\n",
      "Test Accuracy: 0.8550724387168884\n"
     ]
    }
   ],
   "source": [
    "# Evaluate the model on the test set\n",
    "evaluation = cnn.evaluate(testset)\n",
    "\n",
    "# The `evaluate` method returns a list containing the loss and accuracy\n",
    "loss = evaluation[0]\n",
    "accuracy = evaluation[1]\n",
    "\n",
    "# Print the evaluation results\n",
    "print(f'Test Loss: {loss}')\n",
    "print(f'Test Accuracy: {accuracy}')\n"
   ]
  },
  {
   "cell_type": "code",
   "execution_count": null,
   "metadata": {},
   "outputs": [],
   "source": []
  }
 ],
 "metadata": {
  "kernelspec": {
   "display_name": "Python 3",
   "language": "python",
   "name": "python3"
  },
  "language_info": {
   "codemirror_mode": {
    "name": "ipython",
    "version": 3
   },
   "file_extension": ".py",
   "mimetype": "text/x-python",
   "name": "python",
   "nbconvert_exporter": "python",
   "pygments_lexer": "ipython3",
   "version": "3.10.6"
  }
 },
 "nbformat": 4,
 "nbformat_minor": 2
}
