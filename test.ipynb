{
 "cells": [
  {
   "cell_type": "code",
   "execution_count": 1,
   "metadata": {},
   "outputs": [],
   "source": [
    "import tensorflow as tf\n",
    "from keras.preprocessing.image import ImageDataGenerator"
   ]
  },
  {
   "cell_type": "markdown",
   "metadata": {},
   "source": [
    "## Training data preprocessing"
   ]
  },
  {
   "cell_type": "markdown",
   "metadata": {},
   "source": [
    "from keras/tf docs"
   ]
  },
  {
   "cell_type": "code",
   "execution_count": 2,
   "metadata": {},
   "outputs": [
    {
     "name": "stdout",
     "output_type": "stream",
     "text": [
      "Found 622 images belonging to 6 classes.\n"
     ]
    }
   ],
   "source": [
    "train_datagen = ImageDataGenerator(\n",
    "        rescale=1./255,\n",
    "        shear_range=0.2,\n",
    "        zoom_range=0.2,\n",
    "        horizontal_flip=True)\n",
    "\n",
    "trainset = train_datagen.flow_from_directory(\n",
    "        'dataset/training_set',\n",
    "        target_size=(64, 64), #resize image to make computation faster\n",
    "        batch_size=32,        #images in each batch\n",
    "        class_mode='categorical')  #binary or categorical"
   ]
  },
  {
   "cell_type": "markdown",
   "metadata": {},
   "source": [
    "## Test data preprocessing"
   ]
  },
  {
   "cell_type": "code",
   "execution_count": 3,
   "metadata": {},
   "outputs": [
    {
     "name": "stdout",
     "output_type": "stream",
     "text": [
      "Found 140 images belonging to 6 classes.\n"
     ]
    }
   ],
   "source": [
    "test_datagen = ImageDataGenerator(rescale=1./255)\n",
    "testset = test_datagen.flow_from_directory(\n",
    "        'dataset/test_set',\n",
    "        target_size=(64, 64),\n",
    "        batch_size=32,\n",
    "        class_mode='categorical')"
   ]
  },
  {
   "cell_type": "markdown",
   "metadata": {},
   "source": [
    "## INIT"
   ]
  },
  {
   "cell_type": "code",
   "execution_count": 4,
   "metadata": {},
   "outputs": [],
   "source": [
    "cnn = tf.keras.models.Sequential()"
   ]
  },
  {
   "cell_type": "markdown",
   "metadata": {},
   "source": [
    "## Convolution Processes"
   ]
  },
  {
   "cell_type": "code",
   "execution_count": 5,
   "metadata": {},
   "outputs": [],
   "source": [
    "#convolution 1\n",
    "cnn.add(tf.keras.layers.Conv2D(filters=32,kernel_size=3,activation='relu',input_shape=[64,64,3])) #ip shape depends on resized img\n",
    "#pooling 1\n",
    "cnn.add(tf.keras.layers.MaxPool2D(pool_size=2, strides=2))\n",
    "#convolution 2\n",
    "cnn.add(tf.keras.layers.Conv2D(filters=32, kernel_size=3, activation='relu'))\n",
    "#pooling 2\n",
    "cnn.add(tf.keras.layers.MaxPool2D(pool_size=2, strides=2))\n",
    "\n",
    "#flattening\n",
    "cnn.add(tf.keras.layers.Flatten())\n",
    "#full connection\n",
    "cnn.add(tf.keras.layers.Dense(units=128, activation='relu'))\n",
    "\n",
    "#output layer\n",
    "cnn.add(tf.keras.layers.Dense(units=6,activation='softmax')) #units = no of classes"
   ]
  },
  {
   "cell_type": "markdown",
   "metadata": {},
   "source": [
    "## Train"
   ]
  },
  {
   "cell_type": "code",
   "execution_count": 6,
   "metadata": {},
   "outputs": [],
   "source": [
    "cnn.compile(optimizer='adam',loss = 'binary_crossentropy',metrics=['accuracy'])"
   ]
  },
  {
   "cell_type": "code",
   "execution_count": 7,
   "metadata": {},
   "outputs": [
    {
     "name": "stdout",
     "output_type": "stream",
     "text": [
      "Epoch 1/15\n",
      "20/20 [==============================] - 4s 163ms/step - loss: 0.4724 - accuracy: 0.1865 - val_loss: 0.4436 - val_accuracy: 0.2714\n",
      "Epoch 2/15\n",
      "20/20 [==============================] - 3s 152ms/step - loss: 0.4229 - accuracy: 0.3087 - val_loss: 0.4029 - val_accuracy: 0.3357\n",
      "Epoch 3/15\n",
      "20/20 [==============================] - 3s 148ms/step - loss: 0.3854 - accuracy: 0.4132 - val_loss: 0.3461 - val_accuracy: 0.4857\n",
      "Epoch 4/15\n",
      "20/20 [==============================] - 3s 168ms/step - loss: 0.3583 - accuracy: 0.4550 - val_loss: 0.3274 - val_accuracy: 0.5500\n",
      "Epoch 5/15\n",
      "20/20 [==============================] - 3s 151ms/step - loss: 0.3294 - accuracy: 0.5016 - val_loss: 0.3066 - val_accuracy: 0.5429\n",
      "Epoch 6/15\n",
      "20/20 [==============================] - 3s 163ms/step - loss: 0.3124 - accuracy: 0.5322 - val_loss: 0.2929 - val_accuracy: 0.5929\n",
      "Epoch 7/15\n",
      "20/20 [==============================] - 3s 156ms/step - loss: 0.2934 - accuracy: 0.5836 - val_loss: 0.2598 - val_accuracy: 0.7071\n",
      "Epoch 8/15\n",
      "20/20 [==============================] - 3s 151ms/step - loss: 0.2681 - accuracy: 0.6656 - val_loss: 0.2641 - val_accuracy: 0.6214\n",
      "Epoch 9/15\n",
      "20/20 [==============================] - 3s 154ms/step - loss: 0.2522 - accuracy: 0.6768 - val_loss: 0.2357 - val_accuracy: 0.6714\n",
      "Epoch 10/15\n",
      "20/20 [==============================] - 3s 155ms/step - loss: 0.2267 - accuracy: 0.7235 - val_loss: 0.2437 - val_accuracy: 0.6786\n",
      "Epoch 11/15\n",
      "20/20 [==============================] - 3s 153ms/step - loss: 0.2054 - accuracy: 0.7781 - val_loss: 0.1974 - val_accuracy: 0.7214\n",
      "Epoch 12/15\n",
      "20/20 [==============================] - 3s 164ms/step - loss: 0.1827 - accuracy: 0.8135 - val_loss: 0.2270 - val_accuracy: 0.6929\n",
      "Epoch 13/15\n",
      "20/20 [==============================] - 3s 153ms/step - loss: 0.1817 - accuracy: 0.7910 - val_loss: 0.2123 - val_accuracy: 0.7643\n",
      "Epoch 14/15\n",
      "20/20 [==============================] - 3s 158ms/step - loss: 0.1643 - accuracy: 0.8312 - val_loss: 0.1763 - val_accuracy: 0.7857\n",
      "Epoch 15/15\n",
      "20/20 [==============================] - 3s 152ms/step - loss: 0.1512 - accuracy: 0.8424 - val_loss: 0.1926 - val_accuracy: 0.7571\n"
     ]
    },
    {
     "data": {
      "text/plain": [
       "<keras.callbacks.History at 0x20715e155a0>"
      ]
     },
     "execution_count": 7,
     "metadata": {},
     "output_type": "execute_result"
    }
   ],
   "source": [
    "cnn.fit(x = trainset,validation_data= testset, epochs = 15)"
   ]
  },
  {
   "cell_type": "markdown",
   "metadata": {},
   "source": [
    "## Prediction"
   ]
  },
  {
   "cell_type": "code",
   "execution_count": 42,
   "metadata": {},
   "outputs": [
    {
     "name": "stdout",
     "output_type": "stream",
     "text": [
      "1/1 [==============================] - 0s 55ms/step\n",
      "tulsi\n"
     ]
    }
   ],
   "source": [
    "import numpy as np\n",
    "from keras.utils import load_img,img_to_array\n",
    "\n",
    "img = load_img('dataset/single_prediction/tulsi1.jpg',target_size=(64,64))\n",
    "img = img_to_array(img)\n",
    "img = np.expand_dims(img,axis=0)\n",
    "\n",
    "res = cnn.predict(img/255.0)\n",
    "ind = np.argmax(res[0])\n",
    "\n",
    "classes = ['amla','avocado','jasmine','lemon','neem','tulsi']\n",
    "print(classes[ind])"
   ]
  },
  {
   "cell_type": "markdown",
   "metadata": {},
   "source": [
    "Evaluate"
   ]
  },
  {
   "cell_type": "code",
   "execution_count": null,
   "metadata": {},
   "outputs": [
    {
     "name": "stdout",
     "output_type": "stream",
     "text": [
      "3/3 [==============================] - 0s 48ms/step - loss: 0.2135 - accuracy: 0.8551\n",
      "Test Loss: 0.21348212659358978\n",
      "Test Accuracy: 0.8550724387168884\n"
     ]
    }
   ],
   "source": [
    "# Evaluate the model on the test set\n",
    "evaluation = cnn.evaluate(testset)\n",
    "\n",
    "# The `evaluate` method returns a list containing the loss and accuracy\n",
    "loss = evaluation[0]\n",
    "accuracy = evaluation[1]\n",
    "\n",
    "# Print the evaluation results\n",
    "print(f'Test Loss: {loss}')\n",
    "print(f'Test Accuracy: {accuracy}')\n"
   ]
  },
  {
   "cell_type": "code",
   "execution_count": null,
   "metadata": {},
   "outputs": [],
   "source": []
  }
 ],
 "metadata": {
  "kernelspec": {
   "display_name": "Python 3",
   "language": "python",
   "name": "python3"
  },
  "language_info": {
   "codemirror_mode": {
    "name": "ipython",
    "version": 3
   },
   "file_extension": ".py",
   "mimetype": "text/x-python",
   "name": "python",
   "nbconvert_exporter": "python",
   "pygments_lexer": "ipython3",
   "version": "3.10.6"
  }
 },
 "nbformat": 4,
 "nbformat_minor": 2
}
